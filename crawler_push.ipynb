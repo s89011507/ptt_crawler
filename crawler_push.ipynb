{
 "cells": [
  {
   "cell_type": "code",
   "execution_count": 1,
   "metadata": {
    "collapsed": true
   },
   "outputs": [],
   "source": [
    "import requests \n",
    "from bs4 import BeautifulSoup\n",
    "from urllib.request import urlretrieve\n",
    "import re"
   ]
  },
  {
   "cell_type": "code",
   "execution_count": 2,
   "metadata": {
    "collapsed": true
   },
   "outputs": [],
   "source": [
    "###############################\n",
    "#哪個版\n",
    "PttName=\"Beauty\"\n",
    "#頁數(起始頁跟結尾頁)\n",
    "page_a=2200\n",
    "page_b=2201\n",
    "#推文數\n",
    "pushnumber=50\n",
    "################################\n",
    "\n",
    "for number  in range(page_a,page_b+1):\n",
    "    res=requests.get('https://www.ptt.cc/bbs/'+PttName+'/index'+str(number)+'.html')\n",
    "    soup = BeautifulSoup(res.text, 'lxml')\n",
    "\n",
    "    for d in soup.find_all('div', 'r-ent'):\n",
    "        \n",
    "        if d.find('div','nrec').string:\n",
    "            if(d.find('div','nrec').string==\"爆\"):\n",
    "                b=100\n",
    "            else:\n",
    "                b=int(d.find('div','nrec').string)\n",
    "        if b>=pushnumber:\n",
    "            url = 'https://www.ptt.cc' + d.find('a')['href']\n",
    "            res = requests.get(url)\n",
    "            soup = BeautifulSoup(res.text, 'lxml')\n",
    "            if len(soup.findAll('a', {'href':re.compile('https?://(i.)?(m.)?imgur.com')})) > 0:\n",
    "                for index, img_url in enumerate(soup.findAll('a', {'href':re.compile('https?://(i.)?(m.)?imgur.com')})):\n",
    "                    try:\n",
    "                            #記得更改想要下載到的位置\n",
    "\n",
    "                        urlretrieve(img_url['href'], 'photo/{}_{}.jpg'.format(d.find('a').string, index))\n",
    "                    except:\n",
    "                        print('{} {}_{}.jpg 下載失敗!'.format(img_url['href'], d.find('a').string, index))"
   ]
  },
  {
   "cell_type": "code",
   "execution_count": null,
   "metadata": {
    "collapsed": true
   },
   "outputs": [],
   "source": []
  }
 ],
 "metadata": {
  "kernelspec": {
   "display_name": "Python 3",
   "language": "python",
   "name": "python3"
  },
  "language_info": {
   "codemirror_mode": {
    "name": "ipython",
    "version": 3
   },
   "file_extension": ".py",
   "mimetype": "text/x-python",
   "name": "python",
   "nbconvert_exporter": "python",
   "pygments_lexer": "ipython3",
   "version": "3.6.1"
  }
 },
 "nbformat": 4,
 "nbformat_minor": 2
}
