{
 "cells": [
  {
   "cell_type": "code",
   "execution_count": 26,
   "metadata": {
    "collapsed": true
   },
   "outputs": [],
   "source": [
    "import requests \n",
    "from bs4 import BeautifulSoup\n",
    "from urllib.request import urlretrieve\n",
    "import re\n",
    "\n"
   ]
  },
  {
   "cell_type": "code",
   "execution_count": 3,
   "metadata": {
    "collapsed": true
   },
   "outputs": [],
   "source": [
    "#下載一整頁\n",
    "\n",
    "res = requests.get('https://www.ptt.cc/bbs/joke/index5128.html')\n",
    "soup = BeautifulSoup(res.text, 'lxml')\n",
    "\n",
    "#使用迴圈進入到目標頁面中的每個主題頁面\n",
    "\n",
    "for article in soup.select('.r-ent a'):\n",
    "    url = 'https://www.ptt.cc' + article['href']\n",
    "    res = requests.get(url)\n",
    "    soup = BeautifulSoup(res.text, 'lxml')\n",
    "    \n",
    "    #判斷網址中有沒有圖片，如果有就開始下載\n",
    "\n",
    "    if len(soup.findAll('a', {'href':re.compile('http:\\/\\/i\\.imgur\\.com\\/.*')})) > 0:\n",
    "        for index, img_url in enumerate(soup.findAll('a', {'href':re.compile('http:\\/\\/i\\.imgur\\.com\\/.*')})):\n",
    "            try:\n",
    "                    #記得更改想要下載到的位置\n",
    "\n",
    "                urlretrieve(img_url['href'], 'photo2/{}_{}.jpg'.format(article.text, index))\n",
    "            except:\n",
    "                print('{} {}_{}.jpg 下載失敗!'.format(img_url['href'], article.text, index))"
   ]
  },
  {
   "cell_type": "code",
   "execution_count": 27,
   "metadata": {
    "collapsed": true
   },
   "outputs": [],
   "source": [
    "#下載單篇\n",
    "\n",
    "url = 'https://www.ptt.cc/bbs/joke/M.1501078132.A.759.html'\n",
    "res = requests.get(url)\n",
    "soup = BeautifulSoup(res.text, 'lxml')\n",
    "article=soup.select('.article-meta-value')[2].get_text(strip=True)\n",
    "#判斷網址中有沒有圖片，如果有就開始下載\n",
    "\n",
    "if len(soup.findAll('a', {'href':re.compile('http:\\/\\/i\\.imgur\\.com\\/.*')})) > 0:\n",
    "    for index, img_url in enumerate(soup.findAll('a', {'href':re.compile('http:\\/\\/i\\.imgur\\.com\\/.*')})):\n",
    "        try:\n",
    "                #記得更改想要下載到的位置\n",
    "\n",
    "            urlretrieve(img_url['href'], 'photo2/{}_{}.jpg'.format(article, index))\n",
    "        except:\n",
    "            print('{} {}_{}.jpg 下載失敗!'.format(img_url['href'], article, index))"
   ]
  },
  {
   "cell_type": "code",
   "execution_count": 24,
   "metadata": {},
   "outputs": [],
   "source": []
  },
  {
   "cell_type": "code",
   "execution_count": 25,
   "metadata": {},
   "outputs": [
    {
     "data": {
      "text/plain": [
       "'[ＸＤ] 賴床的理由'"
      ]
     },
     "execution_count": 25,
     "metadata": {},
     "output_type": "execute_result"
    }
   ],
   "source": []
  },
  {
   "cell_type": "code",
   "execution_count": null,
   "metadata": {
    "collapsed": true
   },
   "outputs": [],
   "source": []
  }
 ],
 "metadata": {
  "kernelspec": {
   "display_name": "Python 3",
   "language": "python",
   "name": "python3"
  },
  "language_info": {
   "codemirror_mode": {
    "name": "ipython",
    "version": 3
   },
   "file_extension": ".py",
   "mimetype": "text/x-python",
   "name": "python",
   "nbconvert_exporter": "python",
   "pygments_lexer": "ipython3",
   "version": "3.6.1"
  }
 },
 "nbformat": 4,
 "nbformat_minor": 2
}
